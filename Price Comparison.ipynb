{
 "cells": [
  {
   "cell_type": "code",
   "execution_count": 1,
   "id": "56c381e8",
   "metadata": {},
   "outputs": [],
   "source": [
    "from bs4 import BeautifulSoup\n",
    "import requests\n",
    "import numpy as nm\n",
    "import matplotlib.pyplot as plt\n",
    "import pandas as pd\n",
    "\n",
    "headers = {'User-Agent': 'Mozilla/5.0 (Macintosh; Intel Mac OS X 10_15_7) AppleWebKit/537.36 (KHTML, like Gecko) Chrome/107.0.0.0 Safari/537.36'}\n",
    "flipkart = ''\n",
    "amazon = ''"
   ]
  },
  {
   "cell_type": "code",
   "execution_count": 39,
   "id": "9df7b9dc",
   "metadata": {},
   "outputs": [],
   "source": [
    "def flipkart(name):\n",
    "    try:\n",
    "        global flipkart_rating\n",
    "        global flipkart1\n",
    "        name1 = name.replace(\" \", \"+\")\n",
    "        flipkart1 = f'https://www.flipkart.com/search?q={name1}&otracker=search&otracker1=search&marketplace=FLIPKART&as-show=off&as=off'\n",
    "        res = requests.get(f'https://www.flipkart.com/search?q={name1}&otracker=search&otracker1=search&marketplace=FLIPKART&as-show=off&as=off', headers=headers)\n",
    "        print(\"\\nSearching in flipkart....\")\n",
    "        soup = BeautifulSoup(res.text, 'html.parser')\n",
    "        if (soup.select('._4rR01T')):\n",
    "            flipkart_name = soup.select('._4rR01T')[0].getText().strip().upper()\n",
    "            if name.upper() in flipkart_name:\n",
    "                flipkart_price = soup.select('._30jeq3')[0].getText().strip()\n",
    "               # flipkart_rating = soup.select('._3LWZlK')[0].getText().strip()\n",
    "                flipkart_rating = soup.find('div',class_=\"_3LWZlK\")\n",
    "                flipkart_name = soup.select('._4rR01T')[0].getText().strip()\n",
    "                print(\"Flipkart:\")\n",
    "                print(flipkart_name)\n",
    "                print(f\"rating: {flipkart_rating.text}\")\n",
    "                print(flipkart_price)\n",
    "                print(\"---------------------------------\")\n",
    "\n",
    "        elif (soup.select('.s1Q9rs')):\n",
    "            flipkart_name = soup.select('.s1Q9rs')[0].getText().strip()\n",
    "            flipkart_name = flipkart_name.upper()\n",
    "            if name.upper() in flipkart_name:\n",
    "                flipkart_price = soup.select('._30jeq3')[0].getText().strip()\n",
    "                #flipkart_rating = soup.find('div',class_=\"_3LWZlK\")\n",
    "                flipkart_rating = soup.select('._3LWZlK')[0].getText().strip()\n",
    "                flipkart_name = soup.select('.s1Q9rs')[0].getText().strip()\n",
    "                print(\"Flipkart:\")\n",
    "                print(flipkart_name)\n",
    "                print(f\"rating: {flipkart_rating.text}\")\n",
    "                print(flipkart_price)\n",
    "                print(\"---------------------------------\")\n",
    "        else:\n",
    "            flipkart_price = '0'\n",
    "\n",
    "        return flipkart_price\n",
    "    except:\n",
    "        print(\"Flipkart: No product found!\")\n",
    "        print(\"---------------------------------\")\n",
    "        flipkart_price = '0'\n",
    "    return flipkart_price"
   ]
  },
  {
   "cell_type": "code",
   "execution_count": 40,
   "id": "56132ec1",
   "metadata": {},
   "outputs": [],
   "source": [
    "def amazon(name):\n",
    "    try:\n",
    "        global amazon_rating\n",
    "        global amazon1\n",
    "        name1 = name.replace(\" \", \"-\")\n",
    "        name2 = name.replace(\" \", \"+\")\n",
    "        amazon1 = f'https://www.amazon.in/{name1}/s?k={name2}'\n",
    "        res = requests.get(f'https://www.amazon.in/{name1}/s?k={name2}', headers=headers)\n",
    "        print(\"\\nSearching in amazon...\")\n",
    "        soup = BeautifulSoup(res.text, 'html.parser')\n",
    "        amazon_page = soup.select('.a-color-base.a-text-normal')\n",
    "        amazon_page_length = int(len(amazon_page))\n",
    "        for i in range(0, amazon_page_length):\n",
    "            name = name.upper()\n",
    "            amazon_name = soup.select('.a-color-base.a-text-normal')[i].getText().strip().upper()\n",
    "            if name in amazon_name:\n",
    "                amazon_name = soup.select('.a-color-base.a-text-normal')[i].getText().strip()\n",
    "                amazon_rating = soup.select('.a-icon-alt')[i].getText().strip().upper()[0:3]\n",
    "                amazon_price = soup.select('.a-price-whole')[i].getText().strip().upper()\n",
    "                print(\"Amazon:\")\n",
    "                print(amazon_name)\n",
    "                print(f\"rating: {amazon_rating}\")\n",
    "                print(\"₹\"+amazon_price)\n",
    "                print(\"---------------------------------\")\n",
    "                break\n",
    "            else:\n",
    "                i += 1\n",
    "                i = int(i)\n",
    "                if i == amazon_page_length:\n",
    "                    amazon_price = '0'\n",
    "                    print(\"amazon : No product found!\")\n",
    "                    print(\"-----------------------------\")\n",
    "                    break\n",
    "\n",
    "        return amazon_price\n",
    "        return amazon_rating\n",
    "    except:\n",
    "        print(\"Amazon: No product found!\")\n",
    "        print(\"---------------------------------\")\n",
    "        amazon_price = '0'\n",
    "    return amazon_price\n",
    "    return amazon_rating"
   ]
  },
  {
   "cell_type": "code",
   "execution_count": 41,
   "id": "ce7981ac",
   "metadata": {},
   "outputs": [
    {
     "name": "stdout",
     "output_type": "stream",
     "text": [
      "Product Name:\n",
      "iphone 12\n",
      "\n",
      "Searching in flipkart....\n",
      "Flipkart:\n",
      "APPLE iPhone 12 (Purple, 128 GB)\n",
      "rating: 4.6\n",
      "₹55,999\n",
      "---------------------------------\n",
      "\n",
      "Searching in amazon...\n",
      "Amazon:\n",
      "Apple iPhone 12 (128GB) - (Product) RED\n",
      "rating: 4.5\n",
      "₹64,999.\n",
      "---------------------------------\n",
      "\n",
      "Flipkart Price: ₹55,999\n",
      "\n",
      "Amazon price: ₹64,999.\n"
     ]
    }
   ],
   "source": [
    "def convert(a):\n",
    "    b = a.replace(\" \", '')\n",
    "    c = b.replace(\"INR\", '')\n",
    "    d = c.replace(\",\", '')\n",
    "    f = d.replace(\"₹\", '')\n",
    "    g = int(float(f))\n",
    "    return g\n",
    "\n",
    "\n",
    "name = input(\"Product Name:\\n\")\n",
    "flipkart_price = flipkart(name)\n",
    "amazon_price = amazon(name)\n",
    "if flipkart_price == '0':\n",
    "    print(\"Flipkart: No product found!\")\n",
    "    flipkart_price = int(flipkart_price)\n",
    "else:\n",
    "    print(\"\\nFlipkart Price:\", flipkart_price)\n",
    "    flipkart_price = convert(flipkart_price)\n",
    "if amazon_price == '0':\n",
    "    print(\"Amazon: No product found!\")\n",
    "    amazon_price = int(amazon_price)\n",
    "else:\n",
    "    print(\"\\nAmazon price: ₹\"+amazon_price)\n",
    "    amazon_price = convert(amazon_price)"
   ]
  },
  {
   "cell_type": "code",
   "execution_count": 25,
   "id": "d03f984b",
   "metadata": {},
   "outputs": [
    {
     "name": "stdout",
     "output_type": "stream",
     "text": [
      "Flipkart gave the best deal to choose....\n"
     ]
    },
    {
     "data": {
      "image/png": "[encoded data removed]",
      "text/plain": [
       "<Figure size 432x288 with 1 Axes>"
      ]
     },
     "metadata": {
      "needs_background": "light"
     },
     "output_type": "display_data"
    },
    {
     "name": "stdout",
     "output_type": "stream",
     "text": [
      "64,999.\n"
     ]
    }
   ],
   "source": [
    "x1=amazon_price\n",
    "y1=flipkart_price\n",
    "x2=X3\n",
    "X=['Amazon','Flipkart']\n",
    "Y=[x1,y1]\n",
    "plt.xlabel('Sites')\n",
    "plt.ylabel('Prices')\n",
    "plt.title('Price Bar Graph',fontdict={'fontsize':20})\n",
    "plt.bar(X,Y)\n",
    "\n",
    "if(x1!=0 and y1!=0 and x1!= y1):\n",
    "  if(x1>y1):\n",
    "    D='Flipkart'\n",
    "  else:\n",
    "    D='Amazon'  \n",
    "  print(D,'gave the best deal to choose....')\n",
    "if(x1==y1 and x1!=0 and y1!=0):\n",
    "    print('Both gave the same offer choose any of them....')\n",
    "plt.bar(X,Y)\n",
    "plt.show()\n",
    "print(x2)"
   ]
  },
  {
   "cell_type": "code",
   "execution_count": 6,
   "id": "a8262c8c",
   "metadata": {},
   "outputs": [],
   "source": [
    "if(x1>y1):\n",
    "    d1=y1\n",
    "else:\n",
    "    d1=x1\n",
    "p1 = d1+(d1*10/100)\n",
    "p2 = d1-(d1*10/100)\n",
    "p3 = p2+(p2*3/100)\n",
    "p4 = p3+(p3*3/100)\n",
    "p5 = p4+(p4*3/100)\n",
    "p6 = p5-(x1*4/100)\n",
    "p7 = p6+(p2*4/100)\n",
    "p8 = p7+(p7*4/100)"
   ]
  },
  {
   "cell_type": "code",
   "execution_count": 7,
   "id": "395f7cc5",
   "metadata": {},
   "outputs": [],
   "source": [
    "e=[1,2,3,4,5,6,7,8,9]\n",
    "if(name=='iphone 12'):\n",
    "    d= pd.read_csv('/Users/princegarg/Downloads/iphone12.csv')\n",
    "else:\n",
    "    d=[p1,p2,p3,p4,p5,p6,p7,p8,d1]\n",
    "if(name=='iphone 13'):\n",
    "    d= pd.read_csv('/Users/princegarg/Downloads/iphone13.csv')\n",
    "else:\n",
    "    d=[p1,p2,p3,p4,p5,p6,p7,p8,d1]\n",
    "if(name=='macbook air'):\n",
    "    d= pd.read_csv('/Users/princegarg/Downloads/macbook.csv')\n",
    "else:\n",
    "    d=[p1,p2,p3,p4,p5,p6,p7,p8,d1]"
   ]
  },
  {
   "cell_type": "code",
   "execution_count": 45,
   "id": "2ea71f7b",
   "metadata": {},
   "outputs": [
    {
     "data": {
      "image/png": "[encoded data removed]",
      "text/plain": [
       "<Figure size 432x288 with 1 Axes>"
      ]
     },
     "metadata": {
      "needs_background": "light"
     },
     "output_type": "display_data"
    }
   ],
   "source": [
    "plt.plot(e,d,color='red',marker='.',markersize=10,markeredgecolor='blue')\n",
    "plt.xlabel(\"No. of Times\")\n",
    "plt.ylabel(\"Prices\")\n",
    "plt.title(\"Price History\",fontdict={'fontsize':20})\n",
    "plt.bar(e,d)\n",
    "plt.bar(e,d)\n",
    "plt.bar(e,d)\n",
    "plt.show()"
   ]
  },
  {
   "cell_type": "code",
   "execution_count": 9,
   "id": "299d87b6",
   "metadata": {},
   "outputs": [
    {
     "name": "stdout",
     "output_type": "stream",
     "text": [
      "_______________________________\n",
      "\n",
      "Minimun Price: ₹ 55999\n",
      "\n",
      "URL: https://www.flipkart.com/search?q=iphone+12&otracker=search&otracker1=search&marketplace=FLIPKART&as-show=off&as=off \n",
      "\n",
      "----------------------------------------------------URLs---------------------------------------------------------\n",
      "\n",
      "Flipkart : \n",
      " https://www.flipkart.com/search?q=iphone+12&otracker=search&otracker1=search&marketplace=FLIPKART&as-show=off&as=off\n",
      "\n",
      "Amazon : \n",
      " https://www.amazon.in/iphone-12/s?k=iphone+12\n",
      "\n",
      "-----------------------------------------------------------------------------------------------------------------\n"
     ]
    }
   ],
   "source": [
    "lst = [flipkart_price,amazon_price]\n",
    "lst2=[]\n",
    "for j in range(0,len(lst)):\n",
    "    if lst[j]>0:\n",
    "        lst2.append(lst[j])\n",
    "if len(lst2)==0:\n",
    "    print(\"No relative product find in all websites....\")\n",
    "else:\n",
    "    min_price=min(lst2)\n",
    "\n",
    "    print(\"_______________________________\")\n",
    "    print(\"\\nMinimun Price: ₹\",min_price)\n",
    "    price = {\n",
    "        f'{amazon_price}':f'{amazon1}',\n",
    "        f'{flipkart_price}':f'{flipkart1}',\n",
    "    }\n",
    "    for key, value in price.items():\n",
    "        if int(key)==min_price and x1!=y1:\n",
    "            print ('\\nURL:', price[key],'\\n')\n",
    "    if(amazon_price!=0 and flipkart_price!=0):\n",
    "      print(\"----------------------------------------------------URLs---------------------------------------------------------\\n\")\n",
    "      print(\"Flipkart : \\n\",flipkart1)\n",
    "      print(\"\\nAmazon : \\n\",amazon1)\n",
    "      print(\"\\n-----------------------------------------------------------------------------------------------------------------\")"
   ]
  },
  {
   "cell_type": "code",
   "execution_count": null,
   "id": "97f41ea1",
   "metadata": {},
   "outputs": [],
   "source": []
  }
 ],
 "metadata": {
  "kernelspec": {
   "display_name": "Python 3 (ipykernel)",
   "language": "python",
   "name": "python3"
  },
  "language_info": {
   "codemirror_mode": {
    "name": "ipython",
    "version": 3
   },
   "file_extension": ".py",
   "mimetype": "text/x-python",
   "name": "python",
   "nbconvert_exporter": "python",
   "pygments_lexer": "ipython3",
   "version": "3.9.12"
  }
 },
 "nbformat": 4,
 "nbformat_minor": 5
}
